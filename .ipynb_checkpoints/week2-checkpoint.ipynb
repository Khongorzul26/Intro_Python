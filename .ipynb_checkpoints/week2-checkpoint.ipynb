{
 "cells": [
  {
   "cell_type": "code",
   "execution_count": 2,
   "id": "283ecc91",
   "metadata": {},
   "outputs": [],
   "source": [
    "#Read excel data\n",
    "import pandas as pd\n",
    "df = pd.read_excel(\"C:/Users/khongorzul/Documents/Python/Week2/repo/Intro_Python/data.xlsx\")"
   ]
  },
  {
   "cell_type": "code",
   "execution_count": 6,
   "id": "184eb948",
   "metadata": {},
   "outputs": [
    {
     "data": {
      "text/html": [
       "<div>\n",
       "<style scoped>\n",
       "    .dataframe tbody tr th:only-of-type {\n",
       "        vertical-align: middle;\n",
       "    }\n",
       "\n",
       "    .dataframe tbody tr th {\n",
       "        vertical-align: top;\n",
       "    }\n",
       "\n",
       "    .dataframe thead th {\n",
       "        text-align: right;\n",
       "    }\n",
       "</style>\n",
       "<table border=\"1\" class=\"dataframe\">\n",
       "  <thead>\n",
       "    <tr style=\"text-align: right;\">\n",
       "      <th></th>\n",
       "      <th>id</th>\n",
       "      <th>firstName</th>\n",
       "      <th>lastName</th>\n",
       "      <th>citizenId</th>\n",
       "      <th>age</th>\n",
       "      <th>yearsInCompany</th>\n",
       "      <th>salary</th>\n",
       "      <th>gender</th>\n",
       "      <th>startDate</th>\n",
       "      <th>politicalView</th>\n",
       "    </tr>\n",
       "  </thead>\n",
       "  <tbody>\n",
       "    <tr>\n",
       "      <th>0</th>\n",
       "      <td>1</td>\n",
       "      <td>Suren</td>\n",
       "      <td>Itgel</td>\n",
       "      <td>SU03</td>\n",
       "      <td>18</td>\n",
       "      <td>0.5</td>\n",
       "      <td>1.5</td>\n",
       "      <td>F</td>\n",
       "      <td>2020-05-13</td>\n",
       "      <td>left</td>\n",
       "    </tr>\n",
       "    <tr>\n",
       "      <th>1</th>\n",
       "      <td>2</td>\n",
       "      <td>Chimeg</td>\n",
       "      <td>Baldan</td>\n",
       "      <td>BH98</td>\n",
       "      <td>23</td>\n",
       "      <td>2.0</td>\n",
       "      <td>1.7</td>\n",
       "      <td>F</td>\n",
       "      <td>2019-08-02</td>\n",
       "      <td>right</td>\n",
       "    </tr>\n",
       "    <tr>\n",
       "      <th>2</th>\n",
       "      <td>3</td>\n",
       "      <td>Gerel</td>\n",
       "      <td>Tsog</td>\n",
       "      <td>DA86</td>\n",
       "      <td>35</td>\n",
       "      <td>4.0</td>\n",
       "      <td>1.9</td>\n",
       "      <td>F</td>\n",
       "      <td>2017-06-14</td>\n",
       "      <td>left</td>\n",
       "    </tr>\n",
       "    <tr>\n",
       "      <th>3</th>\n",
       "      <td>4</td>\n",
       "      <td>Kherlen</td>\n",
       "      <td>Sukh</td>\n",
       "      <td>BU79</td>\n",
       "      <td>42</td>\n",
       "      <td>2.0</td>\n",
       "      <td>1.6</td>\n",
       "      <td>F</td>\n",
       "      <td>2019-11-15</td>\n",
       "      <td>left</td>\n",
       "    </tr>\n",
       "    <tr>\n",
       "      <th>4</th>\n",
       "      <td>5</td>\n",
       "      <td>Badral</td>\n",
       "      <td>Damchaa</td>\n",
       "      <td>ER89</td>\n",
       "      <td>32</td>\n",
       "      <td>8.0</td>\n",
       "      <td>2.3</td>\n",
       "      <td>M</td>\n",
       "      <td>2013-01-25</td>\n",
       "      <td>right</td>\n",
       "    </tr>\n",
       "  </tbody>\n",
       "</table>\n",
       "</div>"
      ],
      "text/plain": [
       "   id firstName lastName citizenId  age  yearsInCompany  salary gender  \\\n",
       "0   1     Suren    Itgel      SU03   18             0.5     1.5      F   \n",
       "1   2    Chimeg   Baldan      BH98   23             2.0     1.7      F   \n",
       "2   3     Gerel     Tsog      DA86   35             4.0     1.9      F   \n",
       "3   4   Kherlen     Sukh      BU79   42             2.0     1.6      F   \n",
       "4   5    Badral  Damchaa      ER89   32             8.0     2.3      M   \n",
       "\n",
       "   startDate politicalView  \n",
       "0 2020-05-13          left  \n",
       "1 2019-08-02         right  \n",
       "2 2017-06-14          left  \n",
       "3 2019-11-15          left  \n",
       "4 2013-01-25         right  "
      ]
     },
     "execution_count": 6,
     "metadata": {},
     "output_type": "execute_result"
    }
   ],
   "source": [
    "df.head()"
   ]
  },
  {
   "cell_type": "code",
   "execution_count": 11,
   "id": "6e5bcd17",
   "metadata": {},
   "outputs": [],
   "source": [
    "my_number = 15\n",
    "\n",
    "if my_number > 1 and my_number < 10:\n",
    "    print(\"hello\")"
   ]
  },
  {
   "cell_type": "code",
   "execution_count": 15,
   "id": "31f7dc92",
   "metadata": {},
   "outputs": [
    {
     "name": "stdout",
     "output_type": "stream",
     "text": [
      "The number is 5\n"
     ]
    }
   ],
   "source": [
    "my_number = 5\n",
    "if my_number == 5:\n",
    "    print(\"The number is 5\")\n",
    "else :\n",
    "    print(\"The number is  not 5\")"
   ]
  },
  {
   "cell_type": "code",
   "execution_count": 17,
   "id": "179ff155",
   "metadata": {},
   "outputs": [
    {
     "name": "stdout",
     "output_type": "stream",
     "text": [
      "The number is neither 10 nor 5\n"
     ]
    }
   ],
   "source": [
    "my_number = 20\n",
    "if my_number == 5:\n",
    "    print(\"The number is 5\")\n",
    "elif my_number == 10:\n",
    "    print(\"The number is 10\")\n",
    "else :\n",
    "    print (\"The number is neither 10 nor 5\")"
   ]
  },
  {
   "cell_type": "code",
   "execution_count": 22,
   "id": "72fe5514",
   "metadata": {},
   "outputs": [
    {
     "name": "stdout",
     "output_type": "stream",
     "text": [
      "The number is not divisible by 5\n"
     ]
    }
   ],
   "source": [
    "import numpy as np\n",
    "my_number = 13\n",
    "if np.mod(my_number,5) == 0:\n",
    "    if my_number > 1 and my_number < 10:\n",
    "        print(\"Divisible by 5 and between 1-10\")\n",
    "    else : print(\"Divisible by 5 and not between 1-10\")\n",
    "else:\n",
    "    print (\"The number is not divisible by 5\")"
   ]
  },
  {
   "cell_type": "code",
   "execution_count": 25,
   "id": "06778303",
   "metadata": {},
   "outputs": [
    {
     "name": "stdout",
     "output_type": "stream",
     "text": [
      "0\n",
      "1\n",
      "2\n",
      "3\n",
      "4\n",
      "5\n",
      "6\n",
      "7\n",
      "8\n",
      "9\n",
      "10\n",
      "11\n",
      "12\n",
      "13\n",
      "14\n"
     ]
    }
   ],
   "source": [
    "for i in range(15) :\n",
    "    print(i)"
   ]
  },
  {
   "cell_type": "code",
   "execution_count": 28,
   "id": "02e86c36",
   "metadata": {},
   "outputs": [
    {
     "name": "stdout",
     "output_type": "stream",
     "text": [
      "Bat\n",
      "Gerel\n",
      "Bold\n"
     ]
    }
   ],
   "source": [
    "my_list = ['Bat', 'Gerel', 'Bold']\n",
    "for name in my_list:\n",
    "    print(name)"
   ]
  },
  {
   "cell_type": "code",
   "execution_count": 35,
   "id": "617f3827",
   "metadata": {},
   "outputs": [
    {
     "name": "stdout",
     "output_type": "stream",
     "text": [
      "0\n",
      "2\n",
      "2\n",
      "4\n",
      "4\n",
      "6\n",
      "6\n",
      "8\n",
      "8\n",
      "10\n"
     ]
    }
   ],
   "source": [
    "for i in range(15) :\n",
    "    if i < 10 :\n",
    "        if np.mod(i,2) == 0:\n",
    "            print(i)\n",
    "        else:\n",
    "            print(i+1)\n",
    "    else:\n",
    "        break"
   ]
  },
  {
   "cell_type": "code",
   "execution_count": 43,
   "id": "8535a0af",
   "metadata": {},
   "outputs": [
    {
     "name": "stdout",
     "output_type": "stream",
     "text": [
      "10\n",
      "10\n",
      "12\n"
     ]
    }
   ],
   "source": [
    "for i in range(15) :\n",
    "    if(i > 8)& (i < 12): #and\n",
    "        if np.mod(i,2) == 0:\n",
    "            print(i)\n",
    "        else:\n",
    "            print(i+1)\n",
    "    else:\n",
    "        continue"
   ]
  },
  {
   "cell_type": "code",
   "execution_count": 47,
   "id": "ca8c5aeb",
   "metadata": {},
   "outputs": [],
   "source": [
    "for i in range(15) :\n",
    "    if i < 10 :\n",
    "        #do sth\n",
    "        pass\n",
    "    else:\n",
    "            continue "
   ]
  },
  {
   "cell_type": "code",
   "execution_count": 48,
   "id": "1a6bfe9c",
   "metadata": {},
   "outputs": [
    {
     "name": "stdout",
     "output_type": "stream",
     "text": [
      "0\n",
      "1\n",
      "2\n",
      "3\n",
      "4\n",
      "13\n",
      "14\n"
     ]
    }
   ],
   "source": [
    "for i in range(15) :\n",
    "    if(i < 5) | (i > 12): #or\n",
    "        print (i)\n",
    "    else:\n",
    "        continue"
   ]
  },
  {
   "cell_type": "code",
   "execution_count": 51,
   "id": "23c05832",
   "metadata": {},
   "outputs": [
    {
     "name": "stdout",
     "output_type": "stream",
     "text": [
      "Bold\n",
      "Chimeg\n"
     ]
    }
   ],
   "source": [
    "mylist = [5,10,45,\"Bold\", 45,45, \"Chimeg\"]\n",
    "for item in mylist:\n",
    "    if isinstance(item, str):\n",
    "        print(item)"
   ]
  },
  {
   "cell_type": "code",
   "execution_count": 52,
   "id": "72e1a47b",
   "metadata": {},
   "outputs": [
    {
     "name": "stdout",
     "output_type": "stream",
     "text": [
      "5\n",
      "10\n",
      "45\n",
      "45\n",
      "45\n"
     ]
    }
   ],
   "source": [
    "mylist = [5,10,45,\"Bold\", 45,45, \"Chimeg\"]\n",
    "for item in mylist:\n",
    "    if isinstance(item, int):\n",
    "        print(item)"
   ]
  },
  {
   "cell_type": "code",
   "execution_count": 54,
   "id": "c1da11ea",
   "metadata": {},
   "outputs": [
    {
     "name": "stdout",
     "output_type": "stream",
     "text": [
      "1\n",
      "2\n",
      "5\n"
     ]
    }
   ],
   "source": [
    "short_list = [1,2,5]\n",
    "for i in range(10):\n",
    "    if i in short_list:\n",
    "        print(i)"
   ]
  },
  {
   "cell_type": "code",
   "execution_count": 56,
   "id": "dc2c4b98",
   "metadata": {},
   "outputs": [
    {
     "name": "stdout",
     "output_type": "stream",
     "text": [
      "5\n",
      "10\n",
      "45\n",
      "45\n",
      "45\n"
     ]
    }
   ],
   "source": [
    "mylist = [5,10,45,\"Bold\", 45,45, \"Chimeg\"]\n",
    "for item in mylist:\n",
    "    if type(item) == int:\n",
    "        print(item)"
   ]
  },
  {
   "cell_type": "code",
   "execution_count": null,
   "id": "fade87e3",
   "metadata": {},
   "outputs": [],
   "source": [
    "#Transform data types"
   ]
  }
 ],
 "metadata": {
  "kernelspec": {
   "display_name": "Python 3",
   "language": "python",
   "name": "python3"
  },
  "language_info": {
   "codemirror_mode": {
    "name": "ipython",
    "version": 3
   },
   "file_extension": ".py",
   "mimetype": "text/x-python",
   "name": "python",
   "nbconvert_exporter": "python",
   "pygments_lexer": "ipython3",
   "version": "3.8.8"
  }
 },
 "nbformat": 4,
 "nbformat_minor": 5
}
